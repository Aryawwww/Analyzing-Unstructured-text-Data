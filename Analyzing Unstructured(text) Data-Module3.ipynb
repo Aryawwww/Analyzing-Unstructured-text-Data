{
 "cells": [
  {
   "cell_type": "markdown",
   "id": "2e7fd259",
   "metadata": {},
   "source": [
    "# Analyzing Unstructured(text) Data"
   ]
  },
  {
   "cell_type": "markdown",
   "id": "91623921",
   "metadata": {},
   "source": [
    "In this practical, you'll learn how to analyze structured data using data science methodology starting from problem formulation to storytelling with data."
   ]
  },
  {
   "cell_type": "markdown",
   "id": "9792ce37",
   "metadata": {},
   "source": [
    "# Objectives"
   ]
  },
  {
   "cell_type": "markdown",
   "id": "29c15d73",
   "metadata": {},
   "source": [
    "At the end of this practical, you will be able to:\n",
    "* Efficiently formulate data science problem for text data\n",
    "* Annotate text data\n",
    "* Clean text data using regular expressions\n",
    "* Represent text as a Bag of Words(BOW)\n",
    "* Implement logistic regression model using Python\n",
    "* Evalute logistic regression model using different metrics\n",
    "* Analyze the model to extract important features (words)"
   ]
  },
  {
   "cell_type": "markdown",
   "id": "9f32b472",
   "metadata": {},
   "source": [
    "<h1>Table of Contents</h1>\n",
    "\n",
    "<div class=\"alert alert-block alert-info\" style=\"margin-top: 20px\">\n",
    "<ol>\n",
    "    <li><a href=\"#1.-Problem-Formulation\">Problem Formulation</a></li>\n",
    "    <li><a href=\"#2.-Data-Collection\">Data Collection</a></li>\n",
    "    <li><a href=\"#3.-Data-Preparation\">Data Preparation</a></li>\n",
    "    <li><a href=\"#4.-Data-Analysis\">Data Analysis</a></li>\n",
    "    <li><a href=\"#5.-Storytelling-with-Data\">Storytelling with Data</a></li>    \n",
    "    \n",
    "</ol>\n",
    "\n",
    "</div>\n",
    "\n"
   ]
  },
  {
   "cell_type": "markdown",
   "id": "d1450f84",
   "metadata": {},
   "source": [
    "# Data Science Process"
   ]
  },
  {
   "cell_type": "markdown",
   "id": "c35538f1",
   "metadata": {},
   "source": [
    "![Data Science Process Infographic](data_science_process_image.png)\n",
    "<br>\n",
    "<i><center><font size=2> Figure 1. Data Science Process Infographic </font></center></i>"
   ]
  },
  {
   "cell_type": "markdown",
   "id": "acf48b48",
   "metadata": {},
   "source": [
    "In this notebook, you'll follow the above data science process to analyze unstructured data."
   ]
  },
  {
   "cell_type": "markdown",
   "id": "f6cf0f3d",
   "metadata": {},
   "source": [
    "|Exercise|\n",
    "|:---:|\n",
    "|What is unstructured data? Give an example of unstructured data.|\n"
   ]
  },
  {
   "cell_type": "code",
   "execution_count": 1,
   "id": "e6e6b4fc",
   "metadata": {},
   "outputs": [],
   "source": [
    "# write your answer here\n"
   ]
  },
  {
   "cell_type": "markdown",
   "id": "4de930d5",
   "metadata": {},
   "source": [
    "# 1. Problem Formulation "
   ]
  },
  {
   "cell_type": "markdown",
   "id": "17a40f7f",
   "metadata": {},
   "source": [
    "Problem formulation is a first step of data science process. A variety of problems can be formulated with text data. You learnt about the following major applications involving text and speech data in the lecture.\n",
    "* Automatic Speech Recognition (ASR)\n",
    "* Text to Speech (TTS)\n",
    "* Optical Character Recognition (OCR)\n",
    "* Machine Translation\n",
    "* Natural Language Generation e.g., Chatbots\n",
    "* Information Retrieval (IR)\n",
    "* Text Classification e.g., Spam vs Not Spam"
   ]
  },
  {
   "cell_type": "markdown",
   "id": "e543108f",
   "metadata": {},
   "source": [
    "For this practical, you'll work on the following scenario. After reading the scenario, answer the exercise questions."
   ]
  },
  {
   "cell_type": "markdown",
   "id": "2875e08a",
   "metadata": {},
   "source": [
    "State government is planning for COVID-19 vaccine promotions. You have been consulted to analyze people's tweets related to COVID-19 vaccine. Particularly, you'll be developing a model that will label any tweet as either positive or negative about the vaccine. This will help the government effectively plan vaccine promotions. Now answer the following questions:\n",
    "\n",
    "|Exercise|\n",
    "|:---:|\n",
    "|1. What kind of problem is this? (e.g. Information Retrieval, Machine Translation, etc.)|\n",
    "|2. Who are my stakeholders?|\n",
    "|3. What value does this bring to stakeholders?|"
   ]
  },
  {
   "cell_type": "code",
   "execution_count": 1,
   "id": "d696e178",
   "metadata": {},
   "outputs": [],
   "source": [
    "# write your answer here\n",
    "\n"
   ]
  },
  {
   "cell_type": "markdown",
   "id": "a7aeb437",
   "metadata": {},
   "source": [
    "# 2. Data Collection"
   ]
  },
  {
   "cell_type": "markdown",
   "id": "f51193a0",
   "metadata": {},
   "source": [
    "Once the problem is defined, next step is to collect data for analysis. Twitter allows you to collect tweets through its API. Though, for this practical you will use already collected data. However, if you are interested in learning more about how to use the API to extract tweets, <a href=\"https://towardsdatascience.com/how-to-access-data-from-the-twitter-api-using-tweepy-python-e2d9e4d54978\">this article</a> will be useful."
   ]
  },
  {
   "cell_type": "markdown",
   "id": "23634628",
   "metadata": {},
   "source": [
    "## 2.1 Load Data"
   ]
  },
  {
   "cell_type": "code",
   "execution_count": 1,
   "id": "476d1020",
   "metadata": {},
   "outputs": [
    {
     "data": {
      "text/html": [
       "<div>\n",
       "<style scoped>\n",
       "    .dataframe tbody tr th:only-of-type {\n",
       "        vertical-align: middle;\n",
       "    }\n",
       "\n",
       "    .dataframe tbody tr th {\n",
       "        vertical-align: top;\n",
       "    }\n",
       "\n",
       "    .dataframe thead th {\n",
       "        text-align: right;\n",
       "    }\n",
       "</style>\n",
       "<table border=\"1\" class=\"dataframe\">\n",
       "  <thead>\n",
       "    <tr style=\"text-align: right;\">\n",
       "      <th></th>\n",
       "      <th>Tweet</th>\n",
       "      <th>Sentiment</th>\n",
       "    </tr>\n",
       "  </thead>\n",
       "  <tbody>\n",
       "    <tr>\n",
       "      <th>0</th>\n",
       "      <td>@VicGovDH @MartinFoleyMP Always remember, you ...</td>\n",
       "      <td>Neg</td>\n",
       "    </tr>\n",
       "    <tr>\n",
       "      <th>1</th>\n",
       "      <td>https://t.co/VvU0EqfTek Rachel Clun :  big ban...</td>\n",
       "      <td>Pos</td>\n",
       "    </tr>\n",
       "    <tr>\n",
       "      <th>2</th>\n",
       "      <td>Fears staff shortages could be the next pinch-...</td>\n",
       "      <td>Neg</td>\n",
       "    </tr>\n",
       "    <tr>\n",
       "      <th>3</th>\n",
       "      <td>When Scomo said Australia is at the front of t...</td>\n",
       "      <td>Neg</td>\n",
       "    </tr>\n",
       "    <tr>\n",
       "      <th>4</th>\n",
       "      <td>@THE_Russell So where is it Morrison, it the e...</td>\n",
       "      <td>Pos</td>\n",
       "    </tr>\n",
       "  </tbody>\n",
       "</table>\n",
       "</div>"
      ],
      "text/plain": [
       "                                               Tweet Sentiment\n",
       "0  @VicGovDH @MartinFoleyMP Always remember, you ...       Neg\n",
       "1  https://t.co/VvU0EqfTek Rachel Clun :  big ban...       Pos\n",
       "2  Fears staff shortages could be the next pinch-...       Neg\n",
       "3  When Scomo said Australia is at the front of t...       Neg\n",
       "4  @THE_Russell So where is it Morrison, it the e...       Pos"
      ]
     },
     "execution_count": 1,
     "metadata": {},
     "output_type": "execute_result"
    }
   ],
   "source": [
    "# import pandas library using alias pd\n",
    "import pandas as pd\n",
    "# pd.set_option('precision', 2)\n",
    "\n",
    "# load the data\n",
    "labelled_tweets = pd.read_csv(\"labelled_data.csv\")\n",
    "\n",
    "# Display first five rows of the data\n",
    "labelled_tweets.head()"
   ]
  },
  {
   "cell_type": "markdown",
   "id": "9633020a",
   "metadata": {},
   "source": [
    "**Column Descriptions**"
   ]
  },
  {
   "cell_type": "markdown",
   "id": "50bccacc",
   "metadata": {},
   "source": [
    "1. **Tweet** : The content of the tweet\n",
    "2. **Sentiment** :  Sentiment of the tweet. It can be either Pos(positive)  or Neg(negative)."
   ]
  },
  {
   "cell_type": "markdown",
   "id": "955c1199",
   "metadata": {},
   "source": [
    "# 3. Data Preparation"
   ]
  },
  {
   "cell_type": "markdown",
   "id": "0a2f98c1",
   "metadata": {},
   "source": [
    "## 3.1 Data Annotation"
   ]
  },
  {
   "cell_type": "markdown",
   "id": "77e08ecb",
   "metadata": {},
   "source": [
    "Though for this practical, the tweet sentiments labels are provided to you, but that's not always the case. You need to manually find sentiment of tweets. To practise data annotation skills, you'll work on the following unlabelled data. Particularly, you will manually annotate the data."
   ]
  },
  {
   "cell_type": "code",
   "execution_count": 2,
   "id": "a82d46ca",
   "metadata": {},
   "outputs": [
    {
     "data": {
      "text/html": [
       "<div>\n",
       "<style scoped>\n",
       "    .dataframe tbody tr th:only-of-type {\n",
       "        vertical-align: middle;\n",
       "    }\n",
       "\n",
       "    .dataframe tbody tr th {\n",
       "        vertical-align: top;\n",
       "    }\n",
       "\n",
       "    .dataframe thead th {\n",
       "        text-align: right;\n",
       "    }\n",
       "</style>\n",
       "<table border=\"1\" class=\"dataframe\">\n",
       "  <thead>\n",
       "    <tr style=\"text-align: right;\">\n",
       "      <th></th>\n",
       "      <th>Tweet</th>\n",
       "      <th>Sentiment</th>\n",
       "    </tr>\n",
       "  </thead>\n",
       "  <tbody>\n",
       "    <tr>\n",
       "      <th>0</th>\n",
       "      <td>Fed up with ableist nonsense about vaccination...</td>\n",
       "      <td>Add a label</td>\n",
       "    </tr>\n",
       "    <tr>\n",
       "      <th>1</th>\n",
       "      <td>@ketaminh The right answer depends on if you a...</td>\n",
       "      <td>Add a label</td>\n",
       "    </tr>\n",
       "    <tr>\n",
       "      <th>2</th>\n",
       "      <td>@fundaygunday @WhiteboardKatie @jimmy_dore Wag...</td>\n",
       "      <td>Add a label</td>\n",
       "    </tr>\n",
       "    <tr>\n",
       "      <th>3</th>\n",
       "      <td>SloMo finally making vaccines mandatory for ag...</td>\n",
       "      <td>Add a label</td>\n",
       "    </tr>\n",
       "    <tr>\n",
       "      <th>4</th>\n",
       "      <td>@abcnews Double vax passports until 85 to 90% ...</td>\n",
       "      <td>Add a label</td>\n",
       "    </tr>\n",
       "  </tbody>\n",
       "</table>\n",
       "</div>"
      ],
      "text/plain": [
       "                                               Tweet    Sentiment\n",
       "0  Fed up with ableist nonsense about vaccination...  Add a label\n",
       "1  @ketaminh The right answer depends on if you a...  Add a label\n",
       "2  @fundaygunday @WhiteboardKatie @jimmy_dore Wag...  Add a label\n",
       "3  SloMo finally making vaccines mandatory for ag...  Add a label\n",
       "4  @abcnews Double vax passports until 85 to 90% ...  Add a label"
      ]
     },
     "execution_count": 2,
     "metadata": {},
     "output_type": "execute_result"
    }
   ],
   "source": [
    "# load unlabelled data\n",
    "unlabelled_tweets = pd.read_csv(\"unlabelled_data.csv\")\n",
    "\n",
    "# Display first five rows of the data\n",
    "unlabelled_tweets.head()"
   ]
  },
  {
   "cell_type": "markdown",
   "id": "fe458165",
   "metadata": {},
   "source": [
    "<b>Instructions for annotating the data"
   ]
  },
  {
   "cell_type": "markdown",
   "id": "ec6e2a0b",
   "metadata": {},
   "source": [
    "1. Download the file 'unlabelled_data.csv'\n",
    "2. Open it in Microsoft Excel or other Spreadsheet software\n",
    "3. Read the tweet content and identify if the tweet is positive/negative about vaccination\n",
    "4. Replace 'Add a label' with the sentiment 'Pos' or 'Neg'\n",
    "5. After annotating all the tweets, save the file as 'annotated_data.csv' and upload to the same directory as 'unlabelled_data.csv'\n",
    "6. Compare your annotations with the actual labels from the file (unlabelled_data_answers.csv)"
   ]
  },
  {
   "cell_type": "markdown",
   "id": "0df773c5",
   "metadata": {},
   "source": [
    "## 3.2 Data Cleaning"
   ]
  },
  {
   "cell_type": "markdown",
   "id": "57415e25",
   "metadata": {},
   "source": [
    "Let's explore a couple of tweets."
   ]
  },
  {
   "cell_type": "code",
   "execution_count": 3,
   "id": "0a5c4d2c",
   "metadata": {},
   "outputs": [
    {
     "data": {
      "text/plain": [
       "\"Lol. My choice was to get a vaccine to help protect my health and the community, now I get freedoms that Brandon doesn't and he's having a cry now that he realises his choices have consequences ðŸ˜‚ðŸ˜‚ðŸ˜‚ #FreeDumb #DansLockoutFail #Covid19Vic https://t.co/HuEPQRYheO\""
      ]
     },
     "execution_count": 3,
     "metadata": {},
     "output_type": "execute_result"
    }
   ],
   "source": [
    "labelled_tweets.loc[6, \"Tweet\"]"
   ]
  },
  {
   "cell_type": "code",
   "execution_count": 4,
   "id": "5b25d326",
   "metadata": {},
   "outputs": [
    {
     "data": {
      "text/plain": [
       "'National cabinet prepares to meet amid growing tensions over COVID-19 vaccine rollout https://t.co/V2PcHp7w8P via @SBSNews'"
      ]
     },
     "execution_count": 4,
     "metadata": {},
     "output_type": "execute_result"
    }
   ],
   "source": [
    "labelled_tweets.loc[7, \"Tweet\"]"
   ]
  },
  {
   "cell_type": "markdown",
   "id": "3371ec3a",
   "metadata": {},
   "source": [
    "It can be observed that a tweet can contain hyperlinks, hashtags, @mentions and also some weired characters. However, they are not useful as we are only interested in the text. So, let's remove them to keep only text."
   ]
  },
  {
   "cell_type": "markdown",
   "id": "8f9a899c",
   "metadata": {},
   "source": [
    "You'll use regular expressions (regex) to clean the tweets. Read more about <a href=\"https://www.youtube.com/watch?v=sHw5hLYFaIw&t=264s\">regex</a> here. <b>In the following function, the regular expressions to remove hashtags and @mentions are missing. You need to write appropriate code to remove hashtags and @mentions using regular expressions.</b>"
   ]
  },
  {
   "cell_type": "code",
   "execution_count": 5,
   "id": "f8429ff2",
   "metadata": {},
   "outputs": [],
   "source": [
    "import re\n",
    "\n",
    "# define a function to clean a tweet\n",
    "def clean_tweet(tweet):\n",
    "    \n",
    "    # remove hyper-links\n",
    "    tweet = re.sub(r\"https:[\\S]+\", \" \", tweet)\n",
    "    \n",
    "    # remove new line characters (\\n)\n",
    "    tweet = re.sub(r\"\\\\n\",\" \", tweet)\n",
    "    \n",
    "    # remove any weired characters\n",
    "    tweet = re.sub(r\"[^A-Za-z*'-]+\", \" \", tweet)\n",
    "    \n",
    "    # remove hash-tags\n",
    "    # write appropriate regular expression\n",
    "    \n",
    "    # remove @-mentions\n",
    "    # write appropriate regular expression\n",
    "    \n",
    "    # convert tweet text to lowercase\n",
    "    tweet = tweet.lower().strip()\n",
    "    \n",
    "    return tweet"
   ]
  },
  {
   "cell_type": "markdown",
   "id": "69754473",
   "metadata": {},
   "source": [
    "Once you have written code to remove hashtags and @mentions, apply the function to clean the tweets."
   ]
  },
  {
   "cell_type": "code",
   "execution_count": 6,
   "id": "321fe812",
   "metadata": {},
   "outputs": [],
   "source": [
    "labelled_tweets[\"Tweet\"] = labelled_tweets[\"Tweet\"].apply(clean_tweet)"
   ]
  },
  {
   "cell_type": "code",
   "execution_count": 7,
   "id": "0f5e02c8",
   "metadata": {},
   "outputs": [
    {
     "data": {
      "text/plain": [
       "\"lol my choice was to get a vaccine to help protect my health and the community now i get freedoms that brandon doesn't and he's having a cry now that he realises his choices have consequences freedumb danslockoutfail covid vic\""
      ]
     },
     "execution_count": 7,
     "metadata": {},
     "output_type": "execute_result"
    }
   ],
   "source": [
    "# verify that the function worked as intended\n",
    "labelled_tweets.loc[6, \"Tweet\"]"
   ]
  },
  {
   "cell_type": "markdown",
   "id": "c71e3962",
   "metadata": {},
   "source": [
    "# 4. Data Analysis"
   ]
  },
  {
   "cell_type": "markdown",
   "id": "ebfccd98",
   "metadata": {},
   "source": [
    "In this step, you'll fit a logistic regression model to predict whether a tweet has positive or negative sentiment. But before that, you need to split the data into train and test set. Train set data will be used to develop a text classification model and test set data will be used to evaluate the model."
   ]
  },
  {
   "cell_type": "code",
   "execution_count": 8,
   "id": "622f00f1",
   "metadata": {},
   "outputs": [],
   "source": [
    "# comment the following line if you want to use your cleaned version\n",
    "labelled_tweets = pd.read_csv(\"cleaned_tweets.csv\")"
   ]
  },
  {
   "cell_type": "markdown",
   "id": "42c0a4e1",
   "metadata": {},
   "source": [
    "## 4.1 Train-Test Split"
   ]
  },
  {
   "cell_type": "code",
   "execution_count": 9,
   "id": "be6265ed",
   "metadata": {},
   "outputs": [],
   "source": [
    "import numpy as np\n",
    "from sklearn.model_selection import train_test_split\n",
    "\n",
    "# define random state to make random processes reproducible\n",
    "random_state = np.random.RandomState(0)"
   ]
  },
  {
   "cell_type": "code",
   "execution_count": 10,
   "id": "2f3cb471",
   "metadata": {},
   "outputs": [],
   "source": [
    "# Define X(features) and y(target)\n",
    "X = labelled_tweets[\"Tweet\"]\n",
    "y = labelled_tweets[\"Sentiment\"]\n",
    "\n",
    "# split the data into train-test split where 30% of data will be used as test set\n",
    "X_train, X_test, y_train, y_test = train_test_split(X, y, test_size=0.3, shuffle=True, random_state=random_state)"
   ]
  },
  {
   "cell_type": "markdown",
   "id": "65f96438",
   "metadata": {},
   "source": [
    "## 4.2 Representing Text as Bag of Words (BOW)"
   ]
  },
  {
   "cell_type": "markdown",
   "id": "aeb4c1af",
   "metadata": {},
   "source": [
    "Models like Logistic Regression can not directly handle text data. They only accept numeric data. And hence, text should be converted to a numeric vector before inputting to the model. Bag of Words (BOW) is one of the most commonly used model to represent text as numeric vector."
   ]
  },
  {
   "cell_type": "markdown",
   "id": "c3da4f41",
   "metadata": {},
   "source": [
    "![BOW](BOW.png)\n",
    "<br>\n",
    "<i><center><font size=2> Figure 2. Representing text as Bag of Words (BOW) (source: <a href=\"https://www.google.com/url?sa=i&url=https%3A%2F%2Fmedium.com%2Fswlh%2Fspam-filtering-using-bag-of-words-aac778e1ee0b&psig=AOvVaw0o71VZ5v7TgtT34Hm90QQ7&ust=1650855196530000&source=images&cd=vfe&ved=0CAwQjRxqFwoTCJiI64PZq_cCFQAAAAAdAAAAABAD\">Medium</a>) </font></center></i>"
   ]
  },
  {
   "cell_type": "code",
   "execution_count": 11,
   "id": "9f8d2e01",
   "metadata": {},
   "outputs": [
    {
     "name": "stderr",
     "output_type": "stream",
     "text": [
      "[nltk_data] Downloading package stopwords to\n",
      "[nltk_data]     /home/uqpvelra/nltk_data...\n",
      "[nltk_data]   Package stopwords is already up-to-date!\n"
     ]
    }
   ],
   "source": [
    "from sklearn.feature_extraction.text import CountVectorizer\n",
    "# !pip install nltk\n",
    "import nltk\n",
    "nltk.download('stopwords')\n",
    "from nltk.corpus import stopwords"
   ]
  },
  {
   "cell_type": "markdown",
   "id": "cec1d421",
   "metadata": {},
   "source": [
    "The tweet can contain certain words such as 'is', 'the', 'are', etc. which are not useful for identifying sentiments. Such words are called stopwords. Also, in this text words like 'vaccine', 'vaccination', etc. will be common and should be removed.  Let's remove such words while performing BOW."
   ]
  },
  {
   "cell_type": "code",
   "execution_count": 12,
   "id": "05540dbd",
   "metadata": {},
   "outputs": [],
   "source": [
    "# define stop words and also add custom stop words such as 'vaccine'\n",
    "stop_words = stopwords.words('english')\n",
    "stop_words.extend(['vaccine', 'vaccination', 'covid', 'vaccinated', 'vaccines', 'vax'])"
   ]
  },
  {
   "cell_type": "code",
   "execution_count": 13,
   "id": "a7401ad4",
   "metadata": {},
   "outputs": [],
   "source": [
    "# define CountVectorizer object\n",
    "# min_df=0.01 means words that belong to only 1% of the all tweets will be excluded in the BOW\n",
    "vectorizer = CountVectorizer(stop_words=stopwords.words('english'), min_df=0.01)\n",
    "# vectorizer = CountVectorizer(stop_words=stopwords.words('english'))\n",
    "\n",
    "# fit the vectorizer object to train data\n",
    "vectorizer.fit(X_train)\n",
    "\n",
    "# get the BOW for train data\n",
    "X_train_BOW = vectorizer.transform(X_train)\n"
   ]
  },
  {
   "cell_type": "code",
   "execution_count": 14,
   "id": "a91e72ed",
   "metadata": {
    "scrolled": true
   },
   "outputs": [
    {
     "name": "stderr",
     "output_type": "stream",
     "text": [
      "/usr/local/lib/python3.9/dist-packages/sklearn/utils/deprecation.py:87: FutureWarning: Function get_feature_names is deprecated; get_feature_names is deprecated in 1.0 and will be removed in 1.2. Please use get_feature_names_out instead.\n",
      "  warnings.warn(msg, category=FutureWarning)\n"
     ]
    },
    {
     "data": {
      "text/html": [
       "<div>\n",
       "<style scoped>\n",
       "    .dataframe tbody tr th:only-of-type {\n",
       "        vertical-align: middle;\n",
       "    }\n",
       "\n",
       "    .dataframe tbody tr th {\n",
       "        vertical-align: top;\n",
       "    }\n",
       "\n",
       "    .dataframe thead th {\n",
       "        text-align: right;\n",
       "    }\n",
       "</style>\n",
       "<table border=\"1\" class=\"dataframe\">\n",
       "  <thead>\n",
       "    <tr style=\"text-align: right;\">\n",
       "      <th></th>\n",
       "      <th>0</th>\n",
       "      <th>1</th>\n",
       "      <th>2</th>\n",
       "      <th>3</th>\n",
       "      <th>4</th>\n",
       "      <th>5</th>\n",
       "      <th>6</th>\n",
       "      <th>7</th>\n",
       "      <th>8</th>\n",
       "      <th>9</th>\n",
       "      <th>...</th>\n",
       "      <th>480</th>\n",
       "      <th>481</th>\n",
       "      <th>482</th>\n",
       "      <th>483</th>\n",
       "      <th>484</th>\n",
       "      <th>485</th>\n",
       "      <th>486</th>\n",
       "      <th>487</th>\n",
       "      <th>488</th>\n",
       "      <th>489</th>\n",
       "    </tr>\n",
       "  </thead>\n",
       "  <tbody>\n",
       "    <tr>\n",
       "      <th>able</th>\n",
       "      <td>0</td>\n",
       "      <td>0</td>\n",
       "      <td>0</td>\n",
       "      <td>0</td>\n",
       "      <td>0</td>\n",
       "      <td>0</td>\n",
       "      <td>0</td>\n",
       "      <td>0</td>\n",
       "      <td>0</td>\n",
       "      <td>0</td>\n",
       "      <td>...</td>\n",
       "      <td>0</td>\n",
       "      <td>0</td>\n",
       "      <td>0</td>\n",
       "      <td>0</td>\n",
       "      <td>0</td>\n",
       "      <td>0</td>\n",
       "      <td>0</td>\n",
       "      <td>0</td>\n",
       "      <td>0</td>\n",
       "      <td>0</td>\n",
       "    </tr>\n",
       "    <tr>\n",
       "      <th>adverse</th>\n",
       "      <td>0</td>\n",
       "      <td>0</td>\n",
       "      <td>0</td>\n",
       "      <td>0</td>\n",
       "      <td>0</td>\n",
       "      <td>0</td>\n",
       "      <td>0</td>\n",
       "      <td>0</td>\n",
       "      <td>0</td>\n",
       "      <td>0</td>\n",
       "      <td>...</td>\n",
       "      <td>0</td>\n",
       "      <td>0</td>\n",
       "      <td>0</td>\n",
       "      <td>0</td>\n",
       "      <td>0</td>\n",
       "      <td>0</td>\n",
       "      <td>0</td>\n",
       "      <td>0</td>\n",
       "      <td>0</td>\n",
       "      <td>0</td>\n",
       "    </tr>\n",
       "    <tr>\n",
       "      <th>afraid</th>\n",
       "      <td>0</td>\n",
       "      <td>0</td>\n",
       "      <td>0</td>\n",
       "      <td>0</td>\n",
       "      <td>0</td>\n",
       "      <td>0</td>\n",
       "      <td>0</td>\n",
       "      <td>0</td>\n",
       "      <td>0</td>\n",
       "      <td>0</td>\n",
       "      <td>...</td>\n",
       "      <td>0</td>\n",
       "      <td>0</td>\n",
       "      <td>0</td>\n",
       "      <td>0</td>\n",
       "      <td>2</td>\n",
       "      <td>0</td>\n",
       "      <td>0</td>\n",
       "      <td>0</td>\n",
       "      <td>0</td>\n",
       "      <td>0</td>\n",
       "    </tr>\n",
       "    <tr>\n",
       "      <th>aged</th>\n",
       "      <td>0</td>\n",
       "      <td>0</td>\n",
       "      <td>0</td>\n",
       "      <td>0</td>\n",
       "      <td>0</td>\n",
       "      <td>0</td>\n",
       "      <td>0</td>\n",
       "      <td>0</td>\n",
       "      <td>0</td>\n",
       "      <td>0</td>\n",
       "      <td>...</td>\n",
       "      <td>0</td>\n",
       "      <td>0</td>\n",
       "      <td>0</td>\n",
       "      <td>0</td>\n",
       "      <td>0</td>\n",
       "      <td>0</td>\n",
       "      <td>0</td>\n",
       "      <td>0</td>\n",
       "      <td>0</td>\n",
       "      <td>0</td>\n",
       "    </tr>\n",
       "    <tr>\n",
       "      <th>ago</th>\n",
       "      <td>0</td>\n",
       "      <td>0</td>\n",
       "      <td>0</td>\n",
       "      <td>0</td>\n",
       "      <td>0</td>\n",
       "      <td>0</td>\n",
       "      <td>0</td>\n",
       "      <td>0</td>\n",
       "      <td>0</td>\n",
       "      <td>0</td>\n",
       "      <td>...</td>\n",
       "      <td>0</td>\n",
       "      <td>0</td>\n",
       "      <td>0</td>\n",
       "      <td>0</td>\n",
       "      <td>0</td>\n",
       "      <td>0</td>\n",
       "      <td>0</td>\n",
       "      <td>0</td>\n",
       "      <td>0</td>\n",
       "      <td>0</td>\n",
       "    </tr>\n",
       "  </tbody>\n",
       "</table>\n",
       "<p>5 rows × 490 columns</p>\n",
       "</div>"
      ],
      "text/plain": [
       "         0    1    2    3    4    5    6    7    8    9    ...  480  481  482  \\\n",
       "able       0    0    0    0    0    0    0    0    0    0  ...    0    0    0   \n",
       "adverse    0    0    0    0    0    0    0    0    0    0  ...    0    0    0   \n",
       "afraid     0    0    0    0    0    0    0    0    0    0  ...    0    0    0   \n",
       "aged       0    0    0    0    0    0    0    0    0    0  ...    0    0    0   \n",
       "ago        0    0    0    0    0    0    0    0    0    0  ...    0    0    0   \n",
       "\n",
       "         483  484  485  486  487  488  489  \n",
       "able       0    0    0    0    0    0    0  \n",
       "adverse    0    0    0    0    0    0    0  \n",
       "afraid     0    2    0    0    0    0    0  \n",
       "aged       0    0    0    0    0    0    0  \n",
       "ago        0    0    0    0    0    0    0  \n",
       "\n",
       "[5 rows x 490 columns]"
      ]
     },
     "execution_count": 14,
     "metadata": {},
     "output_type": "execute_result"
    }
   ],
   "source": [
    "# visualize BOW\n",
    "training_data_BOW = pd.DataFrame(data=X_train_BOW.toarray(), columns=vectorizer.get_feature_names()).T\n",
    "\n",
    "# display the last few rows of the dataframe\n",
    "training_data_BOW.head(5)"
   ]
  },
  {
   "cell_type": "markdown",
   "id": "5f4263ab",
   "metadata": {},
   "source": [
    "In the above dataframe, the row labels are list of words extracted from the tweets and column labels are tweet numbers for the training data. The value inside the dataframe indicates number of occurrences of a particular word in the given tweet. For example, the word 'afraid' occurs twice in the tweet 484."
   ]
  },
  {
   "cell_type": "markdown",
   "id": "7c174a50",
   "metadata": {},
   "source": [
    "## 4.3 Visualize Text Using Word Cloud"
   ]
  },
  {
   "cell_type": "code",
   "execution_count": 15,
   "id": "ab441cb0",
   "metadata": {},
   "outputs": [],
   "source": [
    "# !pip install wordcloud\n",
    "from wordcloud import WordCloud\n",
    "from matplotlib import pyplot as plt"
   ]
  },
  {
   "cell_type": "code",
   "execution_count": 17,
   "id": "6be2365c",
   "metadata": {},
   "outputs": [
    {
     "data": {
      "image/png": "[encoded data removed]",
      "text/plain": [
       "<Figure size 432x288 with 1 Axes>"
      ]
     },
     "metadata": {
      "needs_background": "light"
     },
     "output_type": "display_data"
    }
   ],
   "source": [
    "text = \" \".join(X_train)\n",
    "word_cloud = WordCloud(stopwords=set(stop_words)).generate(text)\n",
    "plt.imshow(word_cloud, interpolation='bilinear');"
   ]
  },
  {
   "cell_type": "markdown",
   "id": "9c0f05e1",
   "metadata": {},
   "source": [
    "Some words such as 'get', 'people', 'virus', 'pfizer', 'jab', 'work', etc. are frequently occuring in the tweets from train data set."
   ]
  },
  {
   "cell_type": "markdown",
   "id": "bafe3f0c",
   "metadata": {},
   "source": [
    "## 4.3 Baseline Model"
   ]
  },
  {
   "cell_type": "markdown",
   "id": "183f1fab",
   "metadata": {},
   "source": [
    "Baseline model is the simplest model that we want to beat using other model such as Logistic Regression. In this case, we can consider the most frequently occuring sentiment in the train data and assign it to the test data. "
   ]
  },
  {
   "cell_type": "code",
   "execution_count": 18,
   "id": "984468c7",
   "metadata": {},
   "outputs": [
    {
     "data": {
      "text/plain": [
       "Pos    252\n",
       "Neg    238\n",
       "Name: Sentiment, dtype: int64"
      ]
     },
     "execution_count": 18,
     "metadata": {},
     "output_type": "execute_result"
    }
   ],
   "source": [
    "# identify most frequently occurring sentiment in the train data\n",
    "y_train.value_counts()"
   ]
  },
  {
   "cell_type": "markdown",
   "id": "50cb5912",
   "metadata": {},
   "source": [
    "It can be observed that 'Pos' is frequently occuring than 'Neg'. So you'll assign 'Pos' to test data as well."
   ]
  },
  {
   "cell_type": "code",
   "execution_count": 19,
   "id": "65e7896c",
   "metadata": {},
   "outputs": [],
   "source": [
    "# assign 'Pos' to test data\n",
    "y_test_baseline_predictions = pd.Series(['Pos']*len(y_test))"
   ]
  },
  {
   "cell_type": "markdown",
   "id": "21bd88b3",
   "metadata": {},
   "source": [
    "## 4.4 Logistic Regression Model"
   ]
  },
  {
   "cell_type": "markdown",
   "id": "5669a3db",
   "metadata": {},
   "source": [
    "The baseline model naively assumes that sentiment of test data is also 'Pos' as it is the most frequenly occuring sentiment. However, it might not be always true. Let's hypothesize that logistic regression model can overcome this baseline model."
   ]
  },
  {
   "cell_type": "markdown",
   "id": "71379c00",
   "metadata": {},
   "source": [
    "Logistic regression belongs to a family of linear models that can be used to predict categorical outcome such as positive or negative sentiment, spam or not spam email, etc. In our case, it will take the bag of words as input and based on that it will predict whether the tweet has 'Pos' or 'Neg' sentiment."
   ]
  },
  {
   "cell_type": "markdown",
   "id": "e3d4f006",
   "metadata": {},
   "source": [
    "![BOW](logistic_regression.png)\n",
    "<br>\n",
    "<i><center><font size=2> Figure 3. Logistic Regression Model (source: <a href=\"https://www.google.com/url?sa=i&url=https%3A%2F%2Fprwatech.in%2Fblog%2Ftag%2Flogistic-regression-in-machine-learning%2F&psig=AOvVaw1U5NdjesCqcA3nfg0IyoI0&ust=1650860218476000&source=images&cd=vfe&ved=0CAwQjRxqFwoTCLio2Ozrq_cCFQAAAAAdAAAAABAK\">Prwatech</a>) </font></center></i>"
   ]
  },
  {
   "cell_type": "code",
   "execution_count": 20,
   "id": "72d37d7f",
   "metadata": {},
   "outputs": [],
   "source": [
    "from sklearn.linear_model import LogisticRegression"
   ]
  },
  {
   "cell_type": "code",
   "execution_count": 21,
   "id": "42710692",
   "metadata": {},
   "outputs": [
    {
     "data": {
      "text/html": [
       "<style>#sk-container-id-1 {color: black;background-color: white;}#sk-container-id-1 pre{padding: 0;}#sk-container-id-1 div.sk-toggleable {background-color: white;}#sk-container-id-1 label.sk-toggleable__label {cursor: pointer;display: block;width: 100%;margin-bottom: 0;padding: 0.3em;box-sizing: border-box;text-align: center;}#sk-container-id-1 label.sk-toggleable__label-arrow:before {content: \"▸\";float: left;margin-right: 0.25em;color: #696969;}#sk-container-id-1 label.sk-toggleable__label-arrow:hover:before {color: black;}#sk-container-id-1 div.sk-estimator:hover label.sk-toggleable__label-arrow:before {color: black;}#sk-container-id-1 div.sk-toggleable__content {max-height: 0;max-width: 0;overflow: hidden;text-align: left;background-color: #f0f8ff;}#sk-container-id-1 div.sk-toggleable__content pre {margin: 0.2em;color: black;border-radius: 0.25em;background-color: #f0f8ff;}#sk-container-id-1 input.sk-toggleable__control:checked~div.sk-toggleable__content {max-height: 200px;max-width: 100%;overflow: auto;}#sk-container-id-1 input.sk-toggleable__control:checked~label.sk-toggleable__label-arrow:before {content: \"▾\";}#sk-container-id-1 div.sk-estimator input.sk-toggleable__control:checked~label.sk-toggleable__label {background-color: #d4ebff;}#sk-container-id-1 div.sk-label input.sk-toggleable__control:checked~label.sk-toggleable__label {background-color: #d4ebff;}#sk-container-id-1 input.sk-hidden--visually {border: 0;clip: rect(1px 1px 1px 1px);clip: rect(1px, 1px, 1px, 1px);height: 1px;margin: -1px;overflow: hidden;padding: 0;position: absolute;width: 1px;}#sk-container-id-1 div.sk-estimator {font-family: monospace;background-color: #f0f8ff;border: 1px dotted black;border-radius: 0.25em;box-sizing: border-box;margin-bottom: 0.5em;}#sk-container-id-1 div.sk-estimator:hover {background-color: #d4ebff;}#sk-container-id-1 div.sk-parallel-item::after {content: \"\";width: 100%;border-bottom: 1px solid gray;flex-grow: 1;}#sk-container-id-1 div.sk-label:hover label.sk-toggleable__label {background-color: #d4ebff;}#sk-container-id-1 div.sk-serial::before {content: \"\";position: absolute;border-left: 1px solid gray;box-sizing: border-box;top: 0;bottom: 0;left: 50%;z-index: 0;}#sk-container-id-1 div.sk-serial {display: flex;flex-direction: column;align-items: center;background-color: white;padding-right: 0.2em;padding-left: 0.2em;position: relative;}#sk-container-id-1 div.sk-item {position: relative;z-index: 1;}#sk-container-id-1 div.sk-parallel {display: flex;align-items: stretch;justify-content: center;background-color: white;position: relative;}#sk-container-id-1 div.sk-item::before, #sk-container-id-1 div.sk-parallel-item::before {content: \"\";position: absolute;border-left: 1px solid gray;box-sizing: border-box;top: 0;bottom: 0;left: 50%;z-index: -1;}#sk-container-id-1 div.sk-parallel-item {display: flex;flex-direction: column;z-index: 1;position: relative;background-color: white;}#sk-container-id-1 div.sk-parallel-item:first-child::after {align-self: flex-end;width: 50%;}#sk-container-id-1 div.sk-parallel-item:last-child::after {align-self: flex-start;width: 50%;}#sk-container-id-1 div.sk-parallel-item:only-child::after {width: 0;}#sk-container-id-1 div.sk-dashed-wrapped {border: 1px dashed gray;margin: 0 0.4em 0.5em 0.4em;box-sizing: border-box;padding-bottom: 0.4em;background-color: white;}#sk-container-id-1 div.sk-label label {font-family: monospace;font-weight: bold;display: inline-block;line-height: 1.2em;}#sk-container-id-1 div.sk-label-container {text-align: center;}#sk-container-id-1 div.sk-container {/* jupyter's `normalize.less` sets `[hidden] { display: none; }` but bootstrap.min.css set `[hidden] { display: none !important; }` so we also need the `!important` here to be able to override the default hidden behavior on the sphinx rendered scikit-learn.org. See: https://github.com/scikit-learn/scikit-learn/issues/21755 */display: inline-block !important;position: relative;}#sk-container-id-1 div.sk-text-repr-fallback {display: none;}</style><div id=\"sk-container-id-1\" class=\"sk-top-container\"><div class=\"sk-text-repr-fallback\"><pre>LogisticRegression(random_state=RandomState(MT19937) at 0x7FFFBBFA0840)</pre><b>In a Jupyter environment, please rerun this cell to show the HTML representation or trust the notebook. <br />On GitHub, the HTML representation is unable to render, please try loading this page with nbviewer.org.</b></div><div class=\"sk-container\" hidden><div class=\"sk-item\"><div class=\"sk-estimator sk-toggleable\"><input class=\"sk-toggleable__control sk-hidden--visually\" id=\"sk-estimator-id-1\" type=\"checkbox\" checked><label for=\"sk-estimator-id-1\" class=\"sk-toggleable__label sk-toggleable__label-arrow\">LogisticRegression</label><div class=\"sk-toggleable__content\"><pre>LogisticRegression(random_state=RandomState(MT19937) at 0x7FFFBBFA0840)</pre></div></div></div></div></div>"
      ],
      "text/plain": [
       "LogisticRegression(random_state=RandomState(MT19937) at 0x7FFFBBFA0840)"
      ]
     },
     "execution_count": 21,
     "metadata": {},
     "output_type": "execute_result"
    }
   ],
   "source": [
    "# define lgositic regression model object\n",
    "log_reg = LogisticRegression(random_state=random_state)\n",
    "\n",
    "# fit the model to training data\n",
    "log_reg.fit(X_train_BOW, y_train)"
   ]
  },
  {
   "cell_type": "code",
   "execution_count": 22,
   "id": "141c5418",
   "metadata": {},
   "outputs": [
    {
     "data": {
      "text/plain": [
       "array(['Pos', 'Pos', 'Neg', 'Neg', 'Neg', 'Pos', 'Pos', 'Neg', 'Pos',\n",
       "       'Pos', 'Neg', 'Pos', 'Neg', 'Pos', 'Neg', 'Pos', 'Neg', 'Pos',\n",
       "       'Pos', 'Pos', 'Neg', 'Neg', 'Pos', 'Pos', 'Pos', 'Neg', 'Pos',\n",
       "       'Neg', 'Neg', 'Neg', 'Neg', 'Neg', 'Pos', 'Pos', 'Neg', 'Pos',\n",
       "       'Pos', 'Neg', 'Pos', 'Pos', 'Neg', 'Pos', 'Pos', 'Neg', 'Pos',\n",
       "       'Neg', 'Neg', 'Pos', 'Neg', 'Pos', 'Neg', 'Pos', 'Pos', 'Pos',\n",
       "       'Neg', 'Neg', 'Pos', 'Pos', 'Neg', 'Pos', 'Neg', 'Pos', 'Pos',\n",
       "       'Pos', 'Neg', 'Pos', 'Pos', 'Neg', 'Pos', 'Pos', 'Pos', 'Pos',\n",
       "       'Pos', 'Neg', 'Neg', 'Pos', 'Pos', 'Pos', 'Neg', 'Neg', 'Neg',\n",
       "       'Neg', 'Neg', 'Neg', 'Pos', 'Neg', 'Pos', 'Pos', 'Neg', 'Pos',\n",
       "       'Pos', 'Neg', 'Neg', 'Pos', 'Neg', 'Pos', 'Neg', 'Pos', 'Pos',\n",
       "       'Pos', 'Neg', 'Neg', 'Neg', 'Pos', 'Neg', 'Neg', 'Pos', 'Pos',\n",
       "       'Pos', 'Pos', 'Neg', 'Pos', 'Neg', 'Neg', 'Neg', 'Pos', 'Pos',\n",
       "       'Neg', 'Pos', 'Neg', 'Neg', 'Pos', 'Pos', 'Neg', 'Pos', 'Neg',\n",
       "       'Neg', 'Neg', 'Pos', 'Pos', 'Neg', 'Pos', 'Neg', 'Pos', 'Pos',\n",
       "       'Pos', 'Pos', 'Pos', 'Neg', 'Pos', 'Neg', 'Neg', 'Pos', 'Neg',\n",
       "       'Neg', 'Pos', 'Pos', 'Neg', 'Pos', 'Pos', 'Pos', 'Pos', 'Neg',\n",
       "       'Pos', 'Neg', 'Neg', 'Pos', 'Neg', 'Pos', 'Pos', 'Pos', 'Pos',\n",
       "       'Neg', 'Neg', 'Pos', 'Neg', 'Pos', 'Neg', 'Pos', 'Pos', 'Pos',\n",
       "       'Neg', 'Neg', 'Neg', 'Pos', 'Neg', 'Pos', 'Neg', 'Neg', 'Pos',\n",
       "       'Neg', 'Pos', 'Neg', 'Neg', 'Pos', 'Pos', 'Pos', 'Pos', 'Neg',\n",
       "       'Pos', 'Pos', 'Pos', 'Pos', 'Pos', 'Pos', 'Pos', 'Neg', 'Neg',\n",
       "       'Neg', 'Neg', 'Neg', 'Pos', 'Pos', 'Pos', 'Neg', 'Neg', 'Pos',\n",
       "       'Pos', 'Neg', 'Pos'], dtype=object)"
      ]
     },
     "execution_count": 22,
     "metadata": {},
     "output_type": "execute_result"
    }
   ],
   "source": [
    "# make prediction on test data\n",
    "\n",
    "# create BOW for test data\n",
    "X_test_BOW = vectorizer.transform(X_test)\n",
    "\n",
    "# predict using log_reg object\n",
    "y_test_log_reg_predictions = log_reg.predict(X_test_BOW)\n",
    "\n",
    "# view the predictions\n",
    "y_test_log_reg_predictions"
   ]
  },
  {
   "cell_type": "markdown",
   "id": "89109f58",
   "metadata": {},
   "source": [
    "Though the predictions might not be accurate. You'll learn to evalute the model in the next step."
   ]
  },
  {
   "cell_type": "markdown",
   "id": "8a6d3978",
   "metadata": {},
   "source": [
    "# 5. Storytelling with Data"
   ]
  },
  {
   "cell_type": "markdown",
   "id": "e92c72b0",
   "metadata": {},
   "source": [
    "In this part, you'll learn to evalute logistic regression model using different metrics. Also, you'll identify important words marked by the model."
   ]
  },
  {
   "cell_type": "markdown",
   "id": "99402924",
   "metadata": {},
   "source": [
    "## 5.1 Model Evaluation"
   ]
  },
  {
   "cell_type": "markdown",
   "id": "46398371",
   "metadata": {},
   "source": [
    "Let's evaluate the model using the metric 'accuracy'."
   ]
  },
  {
   "cell_type": "code",
   "execution_count": 23,
   "id": "f8f27d1a",
   "metadata": {},
   "outputs": [],
   "source": [
    "from sklearn.metrics import accuracy_score"
   ]
  },
  {
   "cell_type": "markdown",
   "id": "e7a978a9",
   "metadata": {},
   "source": [
    "### 5.1.1. Baseline Model Evaluation"
   ]
  },
  {
   "cell_type": "code",
   "execution_count": 24,
   "id": "fa0911b1",
   "metadata": {},
   "outputs": [
    {
     "data": {
      "text/plain": [
       "0.4666666666666667"
      ]
     },
     "execution_count": 24,
     "metadata": {},
     "output_type": "execute_result"
    }
   ],
   "source": [
    "accuracy_score(y_test, y_test_baseline_predictions)"
   ]
  },
  {
   "cell_type": "markdown",
   "id": "33dc8624",
   "metadata": {},
   "source": [
    "The model naively assumed all sentiment as 'Pos', which is not always the case. The model's accuracy is ~47%."
   ]
  },
  {
   "cell_type": "markdown",
   "id": "e5013f09",
   "metadata": {},
   "source": [
    "### 5.1.2 Logistic Regression Model Evaluation"
   ]
  },
  {
   "cell_type": "markdown",
   "id": "442aed52",
   "metadata": {},
   "source": [
    "#### 1. Using hold-out set"
   ]
  },
  {
   "cell_type": "code",
   "execution_count": 25,
   "id": "0f67d305",
   "metadata": {},
   "outputs": [
    {
     "data": {
      "text/plain": [
       "0.6571428571428571"
      ]
     },
     "execution_count": 25,
     "metadata": {},
     "output_type": "execute_result"
    }
   ],
   "source": [
    "accuracy_score(y_test, y_test_log_reg_predictions)"
   ]
  },
  {
   "cell_type": "markdown",
   "id": "0ec43827",
   "metadata": {},
   "source": [
    "The model's accuracy on hold-out (test) set is ~66%."
   ]
  },
  {
   "cell_type": "markdown",
   "id": "fe86e868",
   "metadata": {},
   "source": [
    "#### 2. Using cross-validation"
   ]
  },
  {
   "cell_type": "code",
   "execution_count": 26,
   "id": "3f9e7f1e",
   "metadata": {},
   "outputs": [
    {
     "data": {
      "text/plain": [
       "0.6387755102040816"
      ]
     },
     "execution_count": 26,
     "metadata": {},
     "output_type": "execute_result"
    }
   ],
   "source": [
    "from sklearn.model_selection import cross_val_score\n",
    "\n",
    "# find accuracy of model using 3-fold cross validation\n",
    "cross_val_score(LogisticRegression(), X_train_BOW, y_train, cv=5).mean()"
   ]
  },
  {
   "cell_type": "markdown",
   "id": "6be82bd3",
   "metadata": {},
   "source": [
    "The model's accuracy using 5-fold cross-validation set is also ~64%."
   ]
  },
  {
   "cell_type": "markdown",
   "id": "5cef1291",
   "metadata": {},
   "source": [
    "Also, accuracy calculated using cross-validation is more reliable than accuracy on hold-out set. This is because cross-validation gives your model the opportunity to train on multiple train-test splits. This gives you a better indication of how well your model will perform on unseen data. Hold-out, on the other hand, is dependent on just one train-test split.  Logistic regression model is proved to be better than the baseline model."
   ]
  },
  {
   "cell_type": "markdown",
   "id": "e3cdd924",
   "metadata": {},
   "source": [
    "|Exercise|\n",
    "|:---:|\n",
    "|However, accuracy is not always reliable metric. Give an example where accuracy score can be misleading in evaluating a model.|\n"
   ]
  },
  {
   "cell_type": "code",
   "execution_count": 27,
   "id": "8e88814d",
   "metadata": {},
   "outputs": [],
   "source": [
    "# write your answer here\n",
    "\n"
   ]
  },
  {
   "cell_type": "markdown",
   "id": "15b88337",
   "metadata": {},
   "source": [
    "<b>3. Confusion matrix"
   ]
  },
  {
   "cell_type": "markdown",
   "id": "b8e25900",
   "metadata": {},
   "source": [
    "Using confusion matrix, many useful metrics can be derieved. You'll now plot confusion matrix."
   ]
  },
  {
   "cell_type": "code",
   "execution_count": 27,
   "id": "6b46ed3a",
   "metadata": {},
   "outputs": [],
   "source": [
    "from sklearn.metrics import ConfusionMatrixDisplay, confusion_matrix"
   ]
  },
  {
   "cell_type": "code",
   "execution_count": 28,
   "id": "b3987c50",
   "metadata": {},
   "outputs": [
    {
     "data": {
      "image/png": "[encoded data removed]",
      "text/plain": [
       "<Figure size 432x288 with 2 Axes>"
      ]
     },
     "metadata": {
      "needs_background": "light"
     },
     "output_type": "display_data"
    }
   ],
   "source": [
    "cm = confusion_matrix(y_test, y_test_log_reg_predictions)\n",
    "display = ConfusionMatrixDisplay(confusion_matrix=cm, display_labels=log_reg.classes_)\n",
    "display.plot();"
   ]
  },
  {
   "cell_type": "markdown",
   "id": "52668024",
   "metadata": {},
   "source": [
    "Let's interpret the confusion matrix and derieve some useful metrics. Here,\n",
    "* Model correctly identified 67 negative sentiment tweets as negative. (True Negative - TN)\n",
    "* Model correctly identified 71 positive sentiment tweets as positive. (True Positive - TP)\n",
    "* Model incorrectly identified 27 positive sentiment tweets as negative. (False Negative - FN)\n",
    "* Model incorrectly identified 45 negative sentiment tweets as positive. (False Positive - FP)"
   ]
  },
  {
   "cell_type": "markdown",
   "id": "b73aa120",
   "metadata": {},
   "source": [
    "* Precision = TP/(TP+FP) = 71/(71+45) = 0.6120 <br>\n",
    "It means out of 100 times when model predicted positive sentiment, it was only 61 times actually positive."
   ]
  },
  {
   "cell_type": "markdown",
   "id": "e81d66a4",
   "metadata": {},
   "source": [
    "|Exercise|\n",
    "|:---:|\n",
    "|Calculate `Recall` metric using the confusion matrix and interpret the value. Hint : `Recall = TP/(TP+FN)`|\n"
   ]
  },
  {
   "cell_type": "code",
   "execution_count": 30,
   "id": "122c4b11",
   "metadata": {
    "scrolled": true
   },
   "outputs": [],
   "source": [
    "# write your answer here\n",
    "\n"
   ]
  },
  {
   "cell_type": "markdown",
   "id": "6fa016e4",
   "metadata": {},
   "source": [
    "Ideally, we want to balance the precision and recall scores for a model. F1-score takes into account both the precision and recall. Let's calculate F1 score\n"
   ]
  },
  {
   "cell_type": "code",
   "execution_count": 29,
   "id": "3b8abca6",
   "metadata": {},
   "outputs": [
    {
     "data": {
      "text/plain": [
       "0.6635514018691588"
      ]
     },
     "execution_count": 29,
     "metadata": {},
     "output_type": "execute_result"
    }
   ],
   "source": [
    "from sklearn.metrics import f1_score\n",
    "\n",
    "f1_score(y_test, y_test_log_reg_predictions, pos_label='Pos')"
   ]
  },
  {
   "cell_type": "markdown",
   "id": "09f321e0",
   "metadata": {},
   "source": [
    "F1-score shows trade-off between precision and recall. The higher F1-score, better the model is. It can take max value 1 and min value 0. Using F1-score, you can compare performance of various classification models."
   ]
  },
  {
   "cell_type": "markdown",
   "id": "76854b6b",
   "metadata": {},
   "source": [
    "## 5.2 Identifying important words for predictions"
   ]
  },
  {
   "cell_type": "markdown",
   "id": "a296cbd7",
   "metadata": {},
   "source": [
    "Following function will identify top words which were marked important by model in making predictions."
   ]
  },
  {
   "cell_type": "code",
   "execution_count": 30,
   "id": "5c918cc0",
   "metadata": {},
   "outputs": [],
   "source": [
    "# function adapted from https://aneesha.medium.com/visualising-top-features-in-linear-svm-with-scikit-learn-and-matplotlib-3454ab18a14d\n",
    "def plot_coefficients(classifier, feature_names, top_features=10):\n",
    "    coef = classifier.coef_.ravel()\n",
    "    top_positive_coefficients = np.argsort(coef)[-top_features:]\n",
    "    top_negative_coefficients = np.argsort(coef)[:top_features]\n",
    "    top_coefficients = np.hstack([top_negative_coefficients, top_positive_coefficients])\n",
    "    # create plot\n",
    "    plt.figure(figsize=(15, 5))\n",
    "    colors = ['red' if c < 0 else 'blue' for c in coef[top_coefficients]]\n",
    "    plt.bar(np.arange(2 * top_features), coef[top_coefficients], color=colors)\n",
    "    feature_names = np.array(feature_names)\n",
    "    plt.xticks(np.arange(0, 2 * top_features), feature_names[top_coefficients], rotation=90, ha='right')\n",
    "    plt.xlabel(\"Important Words\")\n",
    "    plt.ylabel(\"Model Coefficient\")\n",
    "    plt.title(\"Important words with their model coefficient\")\n",
    "    plt.show()"
   ]
  },
  {
   "cell_type": "code",
   "execution_count": 31,
   "id": "ede05d85",
   "metadata": {},
   "outputs": [
    {
     "name": "stderr",
     "output_type": "stream",
     "text": [
      "/usr/local/lib/python3.9/dist-packages/sklearn/utils/deprecation.py:87: FutureWarning: Function get_feature_names is deprecated; get_feature_names is deprecated in 1.0 and will be removed in 1.2. Please use get_feature_names_out instead.\n",
      "  warnings.warn(msg, category=FutureWarning)\n"
     ]
    },
    {
     "data": {
      "image/png": "[encoded data removed]",
      "text/plain": [
       "<Figure size 1080x360 with 1 Axes>"
      ]
     },
     "metadata": {
      "needs_background": "light"
     },
     "output_type": "display_data"
    }
   ],
   "source": [
    "plot_coefficients(log_reg, vectorizer.get_feature_names())"
   ]
  },
  {
   "cell_type": "markdown",
   "id": "262805d3",
   "metadata": {},
   "source": [
    "The plot shows 20 words which played important role in making predictions. The red bars show top 10 words with negative model coefficient and blue bars show top 10 words with positive model coefficient values."
   ]
  }
 ],
 "metadata": {
  "kernelspec": {
   "display_name": "Python 3 (ipykernel)",
   "language": "python",
   "name": "python3"
  },
  "language_info": {
   "codemirror_mode": {
    "name": "ipython",
    "version": 3
   },
   "file_extension": ".py",
   "mimetype": "text/x-python",
   "name": "python",
   "nbconvert_exporter": "python",
   "pygments_lexer": "ipython3",
   "version": "3.10.13"
  }
 },
 "nbformat": 4,
 "nbformat_minor": 5
}
